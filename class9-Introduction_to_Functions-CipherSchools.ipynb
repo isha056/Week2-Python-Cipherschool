{
 "cells": [
  {
   "cell_type": "code",
   "execution_count": null,
   "metadata": {},
   "outputs": [],
   "source": [
    "a=5\n",
    "b=7\n",
    "print(a+b)\n",
    "print(\"waiting...\")\n",
    "print(\"waiting...\")\n",
    "print(\"waiting...\")\n",
    "\n",
    "print(a-b)\n",
    "print(\"waiting...\")\n",
    "print(\"waiting...\")\n",
    "print(\"waiting...\")\n",
    "\n",
    "print(a*b)\n",
    "print(\"waiting...\")\n",
    "print(\"waiting...\")\n",
    "print(\"waiting...\")"
   ]
  },
  {
   "cell_type": "code",
   "execution_count": null,
   "metadata": {},
   "outputs": [],
   "source": [
    "a=5\n",
    "b=7\n",
    "print(a+b)\n",
    "print(\"loading...\")\n",
    "print(\"loading...\")\n",
    "print(\"loading...\")\n",
    "\n",
    "print(a-b)\n",
    "print(\"loading...\")\n",
    "print(\"loading...\")\n",
    "print(\"loading...\")\n",
    "\n",
    "print(a*b)\n",
    "print(\"loading...\")\n",
    "print(\"loading...\")\n",
    "print(\"loading...\")"
   ]
  },
  {
   "cell_type": "code",
   "execution_count": null,
   "metadata": {},
   "outputs": [],
   "source": [
    "x=6\n",
    "x=\"Ishaa\"\n",
    "x=1.5\n",
    "x=print"
   ]
  },
  {
   "cell_type": "code",
   "execution_count": null,
   "metadata": {},
   "outputs": [],
   "source": [
    "def shoow_loading():\n",
    "  for i in range(3):\n",
    "    print(\"loading....\")\n",
    "a=5\n",
    "b=7\n",
    "print(a+b)\n",
    "shoow_loading()\n",
    "\n",
    "print(a-b)\n",
    "shoow_loading()\n",
    "\n",
    "print(a*b)\n",
    "shoow_loading()"
   ]
  },
  {
   "cell_type": "code",
   "execution_count": null,
   "metadata": {},
   "outputs": [],
   "source": [
    "def shoow_loading():\n",
    "  for i in range(3):\n",
    "    print(i)\n",
    "    print(\"loading....\")\n",
    "shoow_loading()"
   ]
  },
  {
   "cell_type": "code",
   "execution_count": null,
   "metadata": {},
   "outputs": [],
   "source": [
    "def show_loading():\n",
    "  for i in range(3):\n",
    "      print(\"loading\", \".\"*(i+1))\n",
    "show_loading()"
   ]
  },
  {
   "cell_type": "code",
   "execution_count": null,
   "metadata": {},
   "outputs": [],
   "source": [
    "def sheldon_knock():\n",
    "  for _ in range(3):\n",
    "    print(\"knock knock knock penny\")\n",
    "sheldon_knock()"
   ]
  },
  {
   "cell_type": "code",
   "execution_count": null,
   "metadata": {},
   "outputs": [],
   "source": [
    "def sheldon_knock(name):\n",
    "  for i in range(3):\n",
    "     print(\"knock knock knock\", name)\n",
    "sheldon_knock(\"leopard\") "
   ]
  },
  {
   "cell_type": "code",
   "execution_count": null,
   "metadata": {},
   "outputs": [],
   "source": [
    "def sheldon_knock(name, times = 3):\n",
    "  for i in range(times):\n",
    "    print(\"knock knock knock\", name)\n",
    "sheldon_knock(\"penny\",100)"
   ]
  },
  {
   "cell_type": "code",
   "execution_count": null,
   "metadata": {},
   "outputs": [],
   "source": [
    "def add(a, b):\n",
    "  return a+b\n",
    "a=add(1,2)\n",
    "print(a)"
   ]
  }
 ],
 "metadata": {
  "kernelspec": {
   "display_name": "Python 3",
   "language": "python",
   "name": "python3"
  },
  "language_info": {
   "name": "python",
   "version": "3.10.7 (tags/v3.10.7:6cc6b13, Sep  5 2022, 14:08:36) [MSC v.1933 64 bit (AMD64)]"
  },
  "orig_nbformat": 4,
  "vscode": {
   "interpreter": {
    "hash": "4a9a36aaf938c003c74c51e257a180562921841ffec156122e0b9faa6506bd7c"
   }
  }
 },
 "nbformat": 4,
 "nbformat_minor": 2
}
